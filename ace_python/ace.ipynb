{
 "cells": [
  {
   "cell_type": "markdown",
   "metadata": {},
   "source": [
    "# ACE Python Implementation"
   ]
  },
  {
   "cell_type": "markdown",
   "metadata": {},
   "source": [
    "## Imports"
   ]
  },
  {
   "cell_type": "code",
   "execution_count": 2,
   "metadata": {},
   "outputs": [],
   "source": [
    "import numpy as np\n",
    "import platform\n",
    "import tempfile\n",
    "import os\n",
    "import matplotlib.pyplot as plt\n",
    "from scipy import ndimage as ndi\n",
    "# necessite scikit-image \n",
    "from skimage import io as skio"
   ]
  },
  {
   "cell_type": "markdown",
   "metadata": {},
   "source": [
    "## Useful Functions"
   ]
  },
  {
   "cell_type": "code",
   "execution_count": 3,
   "metadata": {},
   "outputs": [],
   "source": [
    "def viewimage(im,normalise=True,MINI=0.0, MAXI=255.0):\n",
    "    \"\"\" Cette fonction fait afficher l'image EN NIVEAUX DE GRIS \n",
    "        dans gimp. Si un gimp est deja ouvert il est utilise.\n",
    "        Par defaut normalise=True. Et dans ce cas l'image est normalisee \n",
    "        entre 0 et 255 avant d'être sauvegardee.\n",
    "        Si normalise=False MINI et MAXI seront mis a 0 et 255 dans l'image resultat\n",
    "        \n",
    "    \"\"\"\n",
    "    imt=np.float32(im.copy())\n",
    "    if platform.system()=='Darwin': #on est sous mac\n",
    "        prephrase='open -a GIMP '\n",
    "        endphrase=' ' \n",
    "    elif platform.system()=='Linux': #SINON ON SUPPOSE LINUX (si vous avez un windows je ne sais comment faire. Si vous savez dites-moi.)\n",
    "        prephrase='gimp '\n",
    "        endphrase= ' &'\n",
    "    elif platform.system()=='Windows':\n",
    "        prephrase='\"C:/Users/juane/AppData/Local/Programs/GIMP 2/bin/gimp-2.10.exe\" '#Remplacer D:/... par le chemin de votre GIMP\n",
    "        endphrase= ''\n",
    "    else:\n",
    "        print('Systeme non pris en charge par l affichage GIMP')\n",
    "        return 'erreur d afficahge'\n",
    "    if normalise:\n",
    "        m=im.min()\n",
    "        imt=imt-m\n",
    "        M=imt.max()\n",
    "        if M>0:\n",
    "            imt = 255 * imt / M\n",
    "\n",
    "    else:\n",
    "        imt = (imt - MINI) / (MAXI - MINI)\n",
    "        imt[imt < 0] = 0\n",
    "        imt[imt > 1] = 1\n",
    "        imt *= 255\n",
    "    \n",
    "    nomfichier=tempfile.mktemp('TPIMA.png')\n",
    "    commande=prephrase +nomfichier+endphrase\n",
    "    imt = imt.astype(np.uint8)\n",
    "    skio.imsave(nomfichier,imt)\n",
    "    os.system(commande)"
   ]
  },
  {
   "cell_type": "markdown",
   "metadata": {},
   "source": [
    "## Chromatic/Spatial Adjustment"
   ]
  },
  {
   "cell_type": "markdown",
   "metadata": {},
   "source": [
    "### Chromatic Comparison"
   ]
  },
  {
   "cell_type": "code",
   "execution_count": null,
   "metadata": {},
   "outputs": [],
   "source": []
  },
  {
   "cell_type": "markdown",
   "metadata": {},
   "source": [
    "### Local / Global Balancing"
   ]
  },
  {
   "cell_type": "code",
   "execution_count": null,
   "metadata": {},
   "outputs": [],
   "source": []
  },
  {
   "cell_type": "markdown",
   "metadata": {},
   "source": [
    "### Subset Selection"
   ]
  },
  {
   "cell_type": "code",
   "execution_count": null,
   "metadata": {},
   "outputs": [],
   "source": []
  },
  {
   "cell_type": "markdown",
   "metadata": {},
   "source": [
    "# Dynamic Tone Reproduction Scaling"
   ]
  },
  {
   "cell_type": "code",
   "execution_count": null,
   "metadata": {},
   "outputs": [],
   "source": [
    "min_pixel = 255\n",
    "max_pixel = 0\n",
    "\n",
    "for raw in R:\n",
    "  for pixel in raw:\n",
    "    if pixel < min_pixel:\n",
    "      min_pixel = pixel\n",
    "    if pixel > max_pixel:\n",
    "      max_pixel = pixel\n",
    "\n",
    "\n",
    "mc = min_pixel\n",
    "\n",
    "Mc = max_pixel"
   ]
  },
  {
   "cell_type": "code",
   "execution_count": null,
   "metadata": {},
   "outputs": [],
   "source": [
    "sc = 255 / (Mc - mc)"
   ]
  },
  {
   "cell_type": "code",
   "execution_count": null,
   "metadata": {},
   "outputs": [],
   "source": [
    "(y,x)=R.shape\n",
    "O = np.zeros((y,x))\n",
    "\n",
    "for i in y:\n",
    "  for j in x:\n",
    "    O[x,y] = round(sc * (R[i,j] - mc))\n",
    "\n",
    "\n"
   ]
  },
  {
   "cell_type": "code",
   "execution_count": null,
   "metadata": {},
   "outputs": [],
   "source": []
  }
 ],
 "metadata": {
  "kernelspec": {
   "display_name": "venv",
   "language": "python",
   "name": "python3"
  },
  "language_info": {
   "codemirror_mode": {
    "name": "ipython",
    "version": 3
   },
   "file_extension": ".py",
   "mimetype": "text/x-python",
   "name": "python",
   "nbconvert_exporter": "python",
   "pygments_lexer": "ipython3",
   "version": "3.11.5"
  },
  "orig_nbformat": 4
 },
 "nbformat": 4,
 "nbformat_minor": 2
}
